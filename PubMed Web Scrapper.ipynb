{
 "cells": [
  {
   "cell_type": "code",
   "execution_count": null,
   "metadata": {},
   "outputs": [],
   "source": [
    "import requests\n",
    "from bs4 import BeautifulSoup"
   ]
  },
  {
   "cell_type": "code",
   "execution_count": 4,
   "metadata": {},
   "outputs": [],
   "source": [
    "url=\"https://www.ncbi.nlm.nih.gov/pubmed/\"\n",
    "disease={\n",
    "    \"term\":\"parkinson's Disease and lysosomes\"\n",
    "    \n",
    "}\n",
    "r=requests.get(url,params=disease)"
   ]
  },
  {
   "cell_type": "code",
   "execution_count": 5,
   "metadata": {},
   "outputs": [
    {
     "data": {
      "text/plain": [
       "'https://www.ncbi.nlm.nih.gov/pubmed/?term=parkinson%27s+Disease+and+lysosomes'"
      ]
     },
     "execution_count": 5,
     "metadata": {},
     "output_type": "execute_result"
    }
   ],
   "source": [
    "r.url"
   ]
  },
  {
   "cell_type": "code",
   "execution_count": 6,
   "metadata": {},
   "outputs": [],
   "source": [
    "soup=BeautifulSoup(r.content)"
   ]
  },
  {
   "cell_type": "code",
   "execution_count": 7,
   "metadata": {},
   "outputs": [],
   "source": [
    "papers=soup.findAll('div',attrs={\"class\":\"rprt\"})"
   ]
  },
  {
   "cell_type": "code",
   "execution_count": 8,
   "metadata": {},
   "outputs": [
    {
     "name": "stdout",
     "output_type": "stream",
     "text": [
      "1\n",
      "Role of the Endolysosomal System in Parkinson's disease.Vidyadhara DJ, Lee JE, Chandra SS.J Neurochem. 2019 Jul 9. doi: 10.1111/jnc.14820. [Epub ahead of print] Review.PMID: 31287913\n",
      "https://www.ncbi.nlm.nih.gov/pubmed/31287913\n",
      "2\n",
      "The role of chaperone-mediated autophagy in neurotoxicity induced by alpha-synuclein after methamphetamine exposure.Sun L, Lian Y, Ding J, Meng Y, Li C, Chen L, Qiu P.Brain Behav. 2019 Jul 9:e01352. doi: 10.1002/brb3.1352. [Epub ahead of print]PMID: 31286692 Free Article\n",
      "https://www.ncbi.nlm.nih.gov/pubmed/31286692\n",
      "3\n",
      "Neuronal Soma-Derived Degradative Lysosomes Are Continuously Delivered to Distal Axons to Maintain Local Degradation Capacity.Farfel-Becker T, Roney JC, Cheng XT, Li S, Cuddy SR, Sheng ZH.Cell Rep. 2019 Jul 2;28(1):51-64.e4. doi: 10.1016/j.celrep.2019.06.013.PMID: 31269450 Free ArticleSimilar articles\n",
      "https://www.ncbi.nlm.nih.gov/pubmed/31269450\n",
      "4\n",
      "Mitochondrial clearance and maturation of autophagosomes are compromised in LRRK2 G2019S familial Parkinson's disease patient fibroblasts.Korecka JA, Thomas R, Christensen DP, Hinrich AJ, Ferrari EJ, Levy SA, Hastings ML, Hallett PJ, Isacson O.Hum Mol Genet. 2019 Jul 1. pii: ddz126. doi: 10.1093/hmg/ddz126. [Epub ahead of print]PMID: 31261377 Similar articles\n",
      "https://www.ncbi.nlm.nih.gov/pubmed/31261377\n",
      "5\n",
      "AMPK mediates the neurotoxicity of iron oxide nanoparticles retained in mitochondria or lysosomes.Huang H, Zhou M, Ruan L, Wang D, Lu H, Zhang J, Chen J, Hu Y, Chai Z.Metallomics. 2019 Jun 26. doi: 10.1039/c9mt00103d. [Epub ahead of print]PMID: 31241124 Similar articles\n",
      "https://www.ncbi.nlm.nih.gov/pubmed/31241124\n",
      "6\n",
      "Endolysosomal dysfunction and exosome secretion: implications for neurodegenerative disorders.Miranda AM, Di Paolo G.Cell Stress. 2018 May 4;2(5):115-118. doi: 10.15698/cst2018.05.136.PMID: 31225476 Free PMC ArticleSimilar articles\n",
      "https://www.ncbi.nlm.nih.gov/pubmed/31225476\n",
      "7\n",
      "Glucocerebrosidase regulators SCARB2 and TFEB are up-regulated in Lewy body disease brain.Pérez-Roca L, Prada-Dacasa P, Segú-Vergés C, Gámez-Valero A, Serrano-Muñoz MA, Santos C, Beyer K.Neurosci Lett. 2019 Jul 27;706:164-168. doi: 10.1016/j.neulet.2019.05.034. Epub 2019 May 19.PMID: 31116970 Similar articles\n",
      "https://www.ncbi.nlm.nih.gov/pubmed/31116970\n",
      "8\n",
      "Mammalian cystatin and protagonists in brain diseases.Amin F, Khan MS, Bano B.J Biomol Struct Dyn. 2019 Jun 5:1-26. doi: 10.1080/07391102.2019.1620636. [Epub ahead of print]PMID: 31107181 Similar articles\n",
      "https://www.ncbi.nlm.nih.gov/pubmed/31107181\n",
      "9\n",
      "C-terminal α-synuclein truncations are linked to cysteine cathepsin activity in Parkinson's disease.McGlinchey RP, Lacy SM, Huffer KE, Tayebi N, Sidransky E, Lee JC.J Biol Chem. 2019 Jun 21;294(25):9973-9984. doi: 10.1074/jbc.RA119.008930. Epub 2019 May 15.PMID: 31092553 Free PMC ArticleSimilar articles\n",
      "https://www.ncbi.nlm.nih.gov/pubmed/31092553\n",
      "10\n",
      "Synergistic Effect of Mitochondrial and Lysosomal Dysfunction in Parkinson's Disease.Guerra F, Girolimetti G, Beli R, Mitruccio M, Pacelli C, Ferretta A, Gasparre G, Cocco T, Bucci C.Cells. 2019 May 14;8(5). pii: E452. doi: 10.3390/cells8050452.PMID: 31091796 Free PMC ArticleSimilar articles\n",
      "https://www.ncbi.nlm.nih.gov/pubmed/31091796\n",
      "11\n",
      "How is alpha-synuclein cleared from the cell?Stefanis L, Emmanouilidou E, Pantazopoulou M, Kirik D, Vekrellis K, Tofaris GK.J Neurochem. 2019 May 8. doi: 10.1111/jnc.14704. [Epub ahead of print] Review.PMID: 31069800 Similar articles\n",
      "https://www.ncbi.nlm.nih.gov/pubmed/31069800\n",
      "12\n",
      "Neural Stem Cells of Parkinson's Disease Patients Exhibit Aberrant Mitochondrial Morphology and Functionality.Walter J, Bolognin S, Antony PMA, Nickels SL, Poovathingal SK, Salamanca L, Magni S, Perfeito R, Hoel F, Qing X, Jarazo J, Arias-Fuenzalida J, Ignac T, Monzel AS, Gonzalez-Cano L, Pereira de Almeida L, Skupin A, Tronstad KJ, Schwamborn JC.Stem Cell Reports. 2019 May 14;12(5):878-889. doi: 10.1016/j.stemcr.2019.03.004. Epub 2019 Apr 11.PMID: 30982740 Free PMC ArticleSimilar articles\n",
      "https://www.ncbi.nlm.nih.gov/pubmed/30982740\n",
      "13\n",
      "Autophagy dysfunction in peripheral blood mononuclear cells of Parkinson's disease patients.Papagiannakis N, Xilouri M, Koros C, Simitsi AM, Stamelou M, Maniati M, Stefanis L.Neurosci Lett. 2019 Jun 21;704:112-115. doi: 10.1016/j.neulet.2019.04.003. Epub 2019 Apr 4.PMID: 30954606 Similar articles\n",
      "https://www.ncbi.nlm.nih.gov/pubmed/30954606\n",
      "14\n",
      "Poloxamer 188 rescues MPTP-induced lysosomal membrane integrity impairment in cellular and mouse models of Parkinson's disease.Dong H, Qin Y, Huang Y, Ji D, Wu F.Neurochem Int. 2019 Jun;126:178-186. doi: 10.1016/j.neuint.2019.03.013. Epub 2019 Mar 20.PMID: 30904670 Similar articles\n",
      "https://www.ncbi.nlm.nih.gov/pubmed/30904670\n",
      "15\n",
      "Lysosomal dysfunction in proteinopathic neurodegenerative disorders: possible therapeutic roles of cAMP and zinc.Koh JY, Kim HN, Hwang JJ, Kim YH, Park SE.Mol Brain. 2019 Mar 12;12(1):18. doi: 10.1186/s13041-019-0439-2. Review.PMID: 30866990 Free PMC ArticleSimilar articles\n",
      "https://www.ncbi.nlm.nih.gov/pubmed/30866990\n",
      "16\n",
      "Inhibition of PDE4 by FCPR16 induces AMPK-dependent autophagy and confers neuroprotection in SH-SY5Y cells and neurons exposed to MPP+-induced oxidative insult.Zhong J, Xie J, Xiao J, Li D, Xu B, Wang X, Wen H, Zhou Z, Cheng Y, Xu J, Wang H.Free Radic Biol Med. 2019 May 1;135:87-101. doi: 10.1016/j.freeradbiomed.2019.02.027. Epub 2019 Feb 25.PMID: 30818055 Similar articles\n",
      "https://www.ncbi.nlm.nih.gov/pubmed/30818055\n",
      "17\n",
      "Modeling neuronopathic storage diseases with patient-derived culture systems.Zunke F, Mazzulli JR.Neurobiol Dis. 2019 Jul;127:147-162. doi: 10.1016/j.nbd.2019.01.018. Epub 2019 Feb 19. Review.PMID: 30790616 Similar articles\n",
      "https://www.ncbi.nlm.nih.gov/pubmed/30790616\n",
      "18\n",
      "Emerging links between pediatric lysosomal storage diseases and adult parkinsonism.Ysselstein D, Shulman JM, Krainc D.Mov Disord. 2019 May;34(5):614-624. doi: 10.1002/mds.27631. Epub 2019 Feb 6. Review.PMID: 30726573 Similar articles\n",
      "https://www.ncbi.nlm.nih.gov/pubmed/30726573\n",
      "19\n",
      "Autophagy Intertwines with Different Diseases-Recent Strategies for Therapeutic Approaches.Ramesh J, Ronsard L, Gao A, Venugopal B.Diseases. 2019 Feb 1;7(1). pii: E15. doi: 10.3390/diseases7010015. Review.PMID: 30717078 Free PMC ArticleSimilar articles\n",
      "https://www.ncbi.nlm.nih.gov/pubmed/30717078\n",
      "20\n",
      "The Effect of Fucoidan on Cellular Oxidative Stress and the CatD-Bax Signaling Axis in MN9D Cells Damaged by 1-Methyl-4-Phenypyridinium.Liang Z, Liu Z, Sun X, Tao M, Xiao X, Yu G, Wang X.Front Aging Neurosci. 2019 Jan 16;10:429. doi: 10.3389/fnagi.2018.00429. eCollection 2018.PMID: 30700973 Free PMC ArticleSimilar articles\n",
      "https://www.ncbi.nlm.nih.gov/pubmed/30700973\n"
     ]
    }
   ],
   "source": [
    "for paper in range(len(papers)):\n",
    "    m=papers[paper].find('div',attrs={\"class\":\"rslt\"}).text.strip()\n",
    "    link=papers[paper].find('a')\n",
    "    print(paper+1)\n",
    "    print(m)\n",
    "    print(\"https://www.ncbi.nlm.nih.gov\"+link.attrs['href'])\n",
    "   \n"
   ]
  },
  {
   "cell_type": "code",
   "execution_count": 1,
   "metadata": {},
   "outputs": [
    {
     "name": "stdout",
     "output_type": "stream",
     "text": [
      "1\n",
      "Complementation of dopaminergic signaling by Pitx3-GDNF synergy induces dopamine secretion by multipotent Ntera2 cells.Eskandarian Boroujeni M, Aliaghaei A, Maghsoudi N, Gardaneh M.J Cell Biochem. 2019 Jul 16. doi: 10.1002/jcb.29109. [Epub ahead of print]PMID: 31310388\n",
      "https://www.ncbi.nlm.nih.gov/pubmed/31310388\n",
      "2\n",
      "Early limbic microstructural alterations in apathy and depression in de novo Parkinson's disease.Prange S, Metereau E, Maillet A, Lhommée E, Klinger H, Pelissier P, Ibarrola D, Heckemann RA, Castrioto A, Tremblay L, Sgambato V, Broussolle E, Krack P, Thobois S.Mov Disord. 2019 Jul 15. doi: 10.1002/mds.27793. [Epub ahead of print]PMID: 31309609\n",
      "https://www.ncbi.nlm.nih.gov/pubmed/31309609\n",
      "3\n",
      "[123I]Metaiodobenzylguanidine (MIBG) Cardiac Scintigraphy and Automated Classification Techniques in Parkinsonian Disorders.Nuvoli S, Spanu A, Fravolini ML, Bianconi F, Cascianelli S, Madeddu G, Palumbo B.Mol Imaging Biol. 2019 Jul 15. doi: 10.1007/s11307-019-01406-6. [Epub ahead of print]PMID: 31309370\n",
      "https://www.ncbi.nlm.nih.gov/pubmed/31309370\n",
      "4\n",
      "Abnormal Mitochondria in a Non-human Primate Model of MPTP-induced Parkinson's Disease: Drp1 and CDK5/p25 Signaling.Park J, Seo J, Won J, Yeo HG, Ahn YJ, Kim K, Jin YB, Koo BS, Lim KS, Jeong KJ, Kang P, Lee HY, Baek SH, Jeon CY, Hong JJ, Huh JW, Kim YH, Park SJ, Kim SU, Lee DS, Lee SR, Lee Y.Exp Neurobiol. 2019 Jun;28(3):414-424. doi: 10.5607/en.2019.28.3.414. Epub 2019 May 24.PMID: 31308800\n",
      "https://www.ncbi.nlm.nih.gov/pubmed/31308800\n",
      "5\n",
      "Pleiotropic effects for Parkin and LRRK2 in leprosy type-1 reactions and Parkinson's disease.Fava VM, Xu YZ, Lettre G, Van Thuc N, Orlova M, Thai VH, Tao S, Croteau N, Eldeeb MA, MacDougall EJ, Cambri G, Lahiri R, Adams L, Fon EA, Trempe JF, Cobat A, Alcaïs A, Abel L, Schurr E.Proc Natl Acad Sci U S A. 2019 Jul 15. pii: 201901805. doi: 10.1073/pnas.1901805116. [Epub ahead of print]PMID: 31308240\n",
      "https://www.ncbi.nlm.nih.gov/pubmed/31308240\n",
      "6\n",
      "Selecting candidates for Deep Brain Stimulation in Parkinson's disease: the role of patients' expectations.Geraedts VJ, Kuijf ML, van Hilten JJ, Marinus J, Oosterloo M, Contarino MF.Parkinsonism Relat Disord. 2019 Jul 10. pii: S1353-8020(19)30301-3. doi: 10.1016/j.parkreldis.2019.07.011. [Epub ahead of print]PMID: 31307920\n",
      "https://www.ncbi.nlm.nih.gov/pubmed/31307920\n",
      "7\n",
      "Progression of two Progressive Supranuclear Palsy phenotypes with comparable initial disability.Shoeibi A, Litvan I, Tolosa E, Ser TD, Lee E; TAUROS Investigators.Parkinsonism Relat Disord. 2019 Jul 9. pii: S1353-8020(19)30300-1. doi: 10.1016/j.parkreldis.2019.07.010. [Epub ahead of print]PMID: 31307919\n",
      "https://www.ncbi.nlm.nih.gov/pubmed/31307919\n",
      "8\n",
      "Sleep microstructure in Parkinson's disease: cycling alternating pattern (CAP) as a sensitive marker of early NREM sleep instability.Priano L, Bigoni M, Albani G, Sellitti L, Giacomotti E, Picconi R, Cremascoli R, Zibetti M, Lopiano L, Mauro A.Sleep Med. 2019 Apr 20. pii: S1389-9457(19)30115-7. doi: 10.1016/j.sleep.2019.03.025. [Epub ahead of print]PMID: 31307885\n",
      "https://www.ncbi.nlm.nih.gov/pubmed/31307885\n",
      "9\n",
      "Motor cortical circuits in Parkinson disease and dystonia.Udupa K, Chen R.Handb Clin Neurol. 2019;161:167-186. doi: 10.1016/B978-0-444-64142-7.00047-3.PMID: 31307598\n",
      "https://www.ncbi.nlm.nih.gov/pubmed/31307598\n",
      "10\n",
      "Hallucinations, somatic-functional disorders of PD-DLB as expressions of thalamic dysfunction.Onofrj M, Espay AJ, Bonanni L, Delli Pizzi S, Sensi SL.Mov Disord. 2019 Jul 15. doi: 10.1002/mds.27781. [Epub ahead of print] Review.PMID: 31307115\n",
      "https://www.ncbi.nlm.nih.gov/pubmed/31307115\n",
      "11\n",
      "Late aging-associated increases in L-DOPA-induced dyskinesia are accompanied by heightened neuroinflammation in the hemi-parkinsonian rat.Lanza K, Perkins AE, Deak T, Bishop C.Neurobiol Aging. 2019 May 31;81:190-199. doi: 10.1016/j.neurobiolaging.2019.05.019. [Epub ahead of print]PMID: 31306813\n",
      "https://www.ncbi.nlm.nih.gov/pubmed/31306813\n",
      "12\n",
      "Pharmacological antagonism of histamine H2R ameliorated L-DOPA-induced dyskinesia via normalization of GRK3 and by suppressing FosB and ERK in PD.Ahmed MR, Jayakumar M, Ahmed MS, Zamaleeva AI, Tao J, Li EH, Job JK, Pittenger C, Ohtsu H, Rajadas J.Neurobiol Aging. 2019 Jun 19;81:177-189. doi: 10.1016/j.neurobiolaging.2019.06.004. [Epub ahead of print]PMID: 31306812\n",
      "https://www.ncbi.nlm.nih.gov/pubmed/31306812\n",
      "13\n",
      "Design and biological assessment of membrane-tethering neuroprotective peptides derived from the pituitary adenylate cyclase-activating polypeptide type 1 receptor.de Molliens MP, Jamadagni P, Létourneau M, Devost D, Hébert TE, Patten SA, Fournier A, Chatenet D.Biochim Biophys Acta Gen Subj. 2019 Jul 12. pii: S0304-4165(19)30178-3. doi: 10.1016/j.bbagen.2019.07.007. [Epub ahead of print]PMID: 31306709\n",
      "https://www.ncbi.nlm.nih.gov/pubmed/31306709\n",
      "14\n",
      "Effects of Concurrent Manual Task Performance on Connected Speech Acoustics in Individuals With Parkinson Disease.Whitfield JA, Kriegel Z, Fullenkamp AM, Mehta DD.J Speech Lang Hear Res. 2019 Jul 15;62(7):2099-2117. doi: 10.1044/2019_JSLHR-S-MSC18-18-0190. Epub 2019 Jul 15.PMID: 31306612\n",
      "https://www.ncbi.nlm.nih.gov/pubmed/31306612\n",
      "15\n",
      "Examination of Clear Speech in Parkinson Disease Using Measures of Working Vowel Space.Whitfield JA, Mehta DD.J Speech Lang Hear Res. 2019 Jul 15;62(7):2082-2098. doi: 10.1044/2019_JSLHR-S-MSC18-18-0189. Epub 2019 Jul 15.PMID: 31306606\n",
      "https://www.ncbi.nlm.nih.gov/pubmed/31306606\n",
      "16\n",
      "Effect of Clear Speech on the Duration of Silent Intervals at Syntactic and Phonemic Boundaries in the Speech of Individuals With Parkinson Disease.Gravelin AC, Whitfield JA.Am J Speech Lang Pathol. 2019 Jul 15;28(2S):793-806. doi: 10.1044/2018_AJSLP-MSC18-18-0102. Epub 2019 Jul 15.PMID: 31306598\n",
      "https://www.ncbi.nlm.nih.gov/pubmed/31306598\n",
      "17\n",
      "Pharmacodynamics, Efficacy, and Safety of IPX203 in Parkinson Disease Patients With Motor Fluctuations.Modi NB, Mittur A, Dinh P, Rubens R, Gupta S.Clin Neuropharmacol. 2019 Jul 12. doi: 10.1097/WNF.0000000000000354. [Epub ahead of print]PMID: 31306216\n",
      "https://www.ncbi.nlm.nih.gov/pubmed/31306216\n",
      "18\n",
      "The Qualification of an Enrichment Biomarker for Clinical Trials Targeting Early Stages of Parkinson's Disease.Stephenson D, Hill D, Cedarbaum JM, Tome M, Vamvakas S, Romero K, Conrado DJ, Dexter DT, Seibyl J, Jennings D, Nicholas T, Matthews D, Xie Z, Imam S, Maguire P, Russell D, Gordon MF, Stebbins GT, Somer E, Gallagher J, Roach A, Basseches P, Grosset D, Marek On Behalf Of The Critical Path For Parkinson's Consortium K.J Parkinsons Dis. 2019 Jul 8. doi: 10.3233/JPD-191648. [Epub ahead of print]PMID: 31306141\n",
      "https://www.ncbi.nlm.nih.gov/pubmed/31306141\n",
      "19\n",
      "Height and weight changes after deep brain stimulation in patients with Parkinson disease: role of clinical subtypes.Abboud H, Reyes D, Genc G, Ahmed A, Gostkowski M, Fernandez HH.Heliyon. 2019 Jun 25;5(6):e01862. doi: 10.1016/j.heliyon.2019.e01862. eCollection 2019 Jun.PMID: 31304406\n",
      "https://www.ncbi.nlm.nih.gov/pubmed/31304406\n",
      "20\n",
      "Wearable sensors for Parkinson's disease: which data are worth collecting for training symptom detection models.Lonini L, Dai A, Shawen N, Simuni T, Poon C, Shimanovich L, Daeschler M, Ghaffari R, Rogers JA, Jayaraman A.NPJ Digit Med. 2018 Nov 23;1:64. doi: 10.1038/s41746-018-0071-z. eCollection 2018.PMID: 31304341\n",
      "https://www.ncbi.nlm.nih.gov/pubmed/31304341\n"
     ]
    }
   ],
   "source": [
    "import requests\n",
    "from bs4 import BeautifulSoup\n",
    "\n",
    "url=\"https://www.ncbi.nlm.nih.gov/pubmed/\"\n",
    "disease={\n",
    "    \"term\":\"parkinsons disease\"\n",
    "}\n",
    "r=requests.get(url,params=disease)\n",
    "soup=BeautifulSoup(r.content)\n",
    "papers=soup.findAll('div',attrs={\"class\":\"rprt\"})\n",
    "for paper in range(len(papers)):\n",
    "    m=papers[paper].find('div',attrs={\"class\":\"rslt\"}).text.strip()\n",
    "    link=papers[paper].find('a')\n",
    "    print(paper+1)\n",
    "    print(m)\n",
    "    print(\"https://www.ncbi.nlm.nih.gov\"+link.attrs['href'])\n",
    "\n"
   ]
  },
  {
   "cell_type": "code",
   "execution_count": 15,
   "metadata": {},
   "outputs": [],
   "source": [
    "import requests\n",
    "url=\"https://pastebin.com/api/api_post.php\"\n",
    "key=\"691db729bc0a3e93f39cd21c8973bcb6\"\n",
    "with open (\"pubmedwebscrapper.txt\",\"rb\") as file:\n",
    "    dataset={\n",
    "        \"api_dev_key\":key,\n",
    "        \"api_option\":\"paste\",\n",
    "        \"api_paste_code\":file.read(),\n",
    "        \"api_paste_format\":\"python\"\n",
    "    }\n",
    "    r=requests.post(url,data=dataset)\n"
   ]
  },
  {
   "cell_type": "code",
   "execution_count": 16,
   "metadata": {},
   "outputs": [
    {
     "data": {
      "text/plain": [
       "b'https://pastebin.com/EMjs4x7u'"
      ]
     },
     "execution_count": 16,
     "metadata": {},
     "output_type": "execute_result"
    }
   ],
   "source": [
    "r.content"
   ]
  },
  {
   "cell_type": "code",
   "execution_count": null,
   "metadata": {},
   "outputs": [],
   "source": []
  }
 ],
 "metadata": {
  "kernelspec": {
   "display_name": "Python 3",
   "language": "python",
   "name": "python3"
  },
  "language_info": {
   "codemirror_mode": {
    "name": "ipython",
    "version": 3
   },
   "file_extension": ".py",
   "mimetype": "text/x-python",
   "name": "python",
   "nbconvert_exporter": "python",
   "pygments_lexer": "ipython3",
   "version": "3.7.3"
  }
 },
 "nbformat": 4,
 "nbformat_minor": 2
}
